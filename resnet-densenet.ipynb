{
 "cells": [
  {
   "cell_type": "code",
   "execution_count": 1,
   "id": "1eb80082",
   "metadata": {},
   "outputs": [
    {
     "name": "stdout",
     "output_type": "stream",
     "text": [
      "Requirement already satisfied: torchvision in c:\\users\\dandac8719\\appdata\\local\\anaconda3\\lib\\site-packages (0.17.1)\n",
      "Requirement already satisfied: numpy in c:\\users\\dandac8719\\appdata\\local\\anaconda3\\lib\\site-packages (from torchvision) (1.26.4)\n",
      "Requirement already satisfied: torch==2.2.1 in c:\\users\\dandac8719\\appdata\\local\\anaconda3\\lib\\site-packages (from torchvision) (2.2.1)\n",
      "Requirement already satisfied: pillow!=8.3.*,>=5.3.0 in c:\\users\\dandac8719\\appdata\\local\\anaconda3\\lib\\site-packages (from torchvision) (10.2.0)\n",
      "Requirement already satisfied: filelock in c:\\users\\dandac8719\\appdata\\local\\anaconda3\\lib\\site-packages (from torch==2.2.1->torchvision) (3.13.1)\n",
      "Requirement already satisfied: typing-extensions>=4.8.0 in c:\\users\\dandac8719\\appdata\\local\\anaconda3\\lib\\site-packages (from torch==2.2.1->torchvision) (4.9.0)\n",
      "Requirement already satisfied: sympy in c:\\users\\dandac8719\\appdata\\local\\anaconda3\\lib\\site-packages (from torch==2.2.1->torchvision) (1.12)\n",
      "Requirement already satisfied: networkx in c:\\users\\dandac8719\\appdata\\local\\anaconda3\\lib\\site-packages (from torch==2.2.1->torchvision) (3.1)\n",
      "Requirement already satisfied: jinja2 in c:\\users\\dandac8719\\appdata\\local\\anaconda3\\lib\\site-packages (from torch==2.2.1->torchvision) (3.1.3)\n",
      "Requirement already satisfied: fsspec in c:\\users\\dandac8719\\appdata\\local\\anaconda3\\lib\\site-packages (from torch==2.2.1->torchvision) (2023.10.0)\n",
      "Requirement already satisfied: MarkupSafe>=2.0 in c:\\users\\dandac8719\\appdata\\local\\anaconda3\\lib\\site-packages (from jinja2->torch==2.2.1->torchvision) (2.1.3)\n",
      "Requirement already satisfied: mpmath>=0.19 in c:\\users\\dandac8719\\appdata\\local\\anaconda3\\lib\\site-packages (from sympy->torch==2.2.1->torchvision) (1.3.0)\n",
      "Note: you may need to restart the kernel to use updated packages.\n"
     ]
    }
   ],
   "source": [
    "pip install torchvision"
   ]
  },
  {
   "cell_type": "code",
   "execution_count": 2,
   "id": "b2f0dfcc",
   "metadata": {},
   "outputs": [
    {
     "name": "stdout",
     "output_type": "stream",
     "text": [
      "Requirement already satisfied: torch in c:\\users\\dandac8719\\appdata\\local\\anaconda3\\lib\\site-packages (2.2.1)\n",
      "Requirement already satisfied: filelock in c:\\users\\dandac8719\\appdata\\local\\anaconda3\\lib\\site-packages (from torch) (3.13.1)\n",
      "Requirement already satisfied: typing-extensions>=4.8.0 in c:\\users\\dandac8719\\appdata\\local\\anaconda3\\lib\\site-packages (from torch) (4.9.0)\n",
      "Requirement already satisfied: sympy in c:\\users\\dandac8719\\appdata\\local\\anaconda3\\lib\\site-packages (from torch) (1.12)\n",
      "Requirement already satisfied: networkx in c:\\users\\dandac8719\\appdata\\local\\anaconda3\\lib\\site-packages (from torch) (3.1)\n",
      "Requirement already satisfied: jinja2 in c:\\users\\dandac8719\\appdata\\local\\anaconda3\\lib\\site-packages (from torch) (3.1.3)\n",
      "Requirement already satisfied: fsspec in c:\\users\\dandac8719\\appdata\\local\\anaconda3\\lib\\site-packages (from torch) (2023.10.0)\n",
      "Requirement already satisfied: MarkupSafe>=2.0 in c:\\users\\dandac8719\\appdata\\local\\anaconda3\\lib\\site-packages (from jinja2->torch) (2.1.3)\n",
      "Requirement already satisfied: mpmath>=0.19 in c:\\users\\dandac8719\\appdata\\local\\anaconda3\\lib\\site-packages (from sympy->torch) (1.3.0)\n",
      "Note: you may need to restart the kernel to use updated packages.\n"
     ]
    }
   ],
   "source": [
    "pip install torch"
   ]
  },
  {
   "cell_type": "code",
   "execution_count": 5,
   "id": "8a3e91f5-a6c8-476d-84da-2369c0450500",
   "metadata": {},
   "outputs": [
    {
     "name": "stdout",
     "output_type": "stream",
     "text": [
      "Accuracy: 76.13%\n"
     ]
    }
   ],
   "source": [
    "import os\n",
    "import torch\n",
    "from torchvision import models, transforms\n",
    "from PIL import Image\n",
    "import shutil\n",
    "\n",
    "# Step 1: Load the ResNet50 model\n",
    "model = models.resnet50(pretrained=True)\n",
    "model.eval()\n",
    "\n",
    "# Step 2: Specify the paths to the validation dataset and ground truth labels file\n",
    "dataset_folder = \"C:/Users/DandaC8719/Documents/ILSVRC2012_img_val\"\n",
    "\n",
    "ground_truth_file = \"C:/Users/DandaC8719/Documents/ground_truth_ilsvrc2012_val.txt\"\n",
    "output_folder = \"C:/Users/DandaC8719/Documents/capstone_overall_code/output_images_folder_resnet_30\"\n",
    "\n",
    "# Step 3: Read the ground truth labels from the file\n",
    "with open(ground_truth_file, 'r') as file:\n",
    "    lines = file.readlines()\n",
    "    ground_truth_labels = [int(label.strip()) for label in lines]\n",
    "\n",
    "# Step 4: Define the image preprocessing transform\n",
    "preprocess = transforms.Compose([\n",
    "    transforms.Resize(256),\n",
    "    transforms.CenterCrop(224),\n",
    "    transforms.ToTensor(),\n",
    "    transforms.Normalize(mean=[0.485, 0.456, 0.406], std=[0.229, 0.224, 0.225]),\n",
    "])\n",
    "\n",
    "# Step 5: Iterate through the images in the validation dataset\n",
    "num_correct_predictions = 0\n",
    "gt=[]\n",
    "total_images = 0\n",
    "\n",
    "# Create the output folder if it doesn't exist\n",
    "os.makedirs(output_folder, exist_ok=True)\n",
    "\n",
    "for filename in os.listdir(dataset_folder):\n",
    "    if filename.endswith('.jpg') or filename.endswith('.JPEG'):\n",
    "        # Construct the full path to the image\n",
    "        image_path = os.path.join(dataset_folder, filename)\n",
    "\n",
    "        # Use PIL to open and preprocess the image\n",
    "        image = Image.open(image_path).convert(\"RGB\")\n",
    "        input_tensor = preprocess(image).unsqueeze(0)\n",
    "\n",
    "        # Step 6: Use the model to predict the label\n",
    "        with torch.no_grad():\n",
    "            output = model(input_tensor)\n",
    "            predicted_label = torch.argmax(output, 1).item()\n",
    "\n",
    "        # Step 7: Compare the predicted label with the ground truth label\n",
    "        true_label = ground_truth_labels[total_images]\n",
    "        if predicted_label == true_label:\n",
    "            num_correct_predictions += 1\n",
    "            # Step 8: If correctly predicted, copy the image to the output folder\n",
    "            shutil.copy(image_path, os.path.join(output_folder, filename))\n",
    "            gt.append(true_label)\n",
    "\n",
    "        total_images += 1\n",
    "\n",
    "# Step 9: Calculate the accuracy of the model\n",
    "accuracy = num_correct_predictions / total_images\n",
    "print(f\"Accuracy: {accuracy * 100:.2f}%\")"
   ]
  },
  {
   "cell_type": "code",
   "execution_count": 6,
   "id": "bdbf80ec",
   "metadata": {},
   "outputs": [
    {
     "name": "stderr",
     "output_type": "stream",
     "text": [
      "C:\\Users\\DandaC8719\\AppData\\Local\\anaconda3\\Lib\\site-packages\\torchvision\\models\\_utils.py:223: UserWarning: Arguments other than a weight enum or `None` for 'weights' are deprecated since 0.13 and may be removed in the future. The current behavior is equivalent to passing `weights=DenseNet121_Weights.IMAGENET1K_V1`. You can also use `weights=DenseNet121_Weights.DEFAULT` to get the most up-to-date weights.\n",
      "  warnings.warn(msg)\n"
     ]
    },
    {
     "name": "stdout",
     "output_type": "stream",
     "text": [
      "Accuracy: 91.34%\n"
     ]
    }
   ],
   "source": [
    "import os\n",
    "import torch\n",
    "from torchvision import models, transforms\n",
    "from PIL import Image\n",
    "import shutil\n",
    "\n",
    "# Step 1: Load the GoogLeNet (Inception v1) model\n",
    "model = models.densenet121(pretrained=True)\n",
    "model.eval()\n",
    "\n",
    "# Step 2: Specify the paths to the validation dataset and ground truth labels file\n",
    "dataset_folder = \"C:/Users/DandaC8719/Documents/capstone_overall_code/output_images_folder_resnet_30\"\n",
    "#ground_truth_file = \"./ground_truth_ilsvrc2012_val.txt\"\n",
    "output_folder = \"C:/Users/DandaC8719/Documents/capstone_overall_code/output_images_folder(DenseNet)_30\"\n",
    "\n",
    "# # Step 3: Read the ground truth labels from the file\n",
    "# with open(ground_truth_file, 'r') as file:\n",
    "#     lines = file.readlines()\n",
    "#     ground_truth_labels = [int(label.strip()) for label in lines]\n",
    "\n",
    "ground_truth_labels =gt\n",
    "\n",
    "\n",
    "# Step 4: Define the image preprocessing transform\n",
    "preprocess = transforms.Compose([\n",
    "    transforms.Resize(256),\n",
    "    transforms.CenterCrop(224),\n",
    "    transforms.ToTensor(),\n",
    "    transforms.Normalize(mean=[0.485, 0.456, 0.406], std=[0.229, 0.224, 0.225]),\n",
    "])\n",
    "\n",
    "# Step 5: Iterate through the images in the validation dataset\n",
    "num_correct_predictions = 0\n",
    "total_images = 0\n",
    "\n",
    "# Create the output folder if it doesn't exist\n",
    "os.makedirs(output_folder, exist_ok=True)\n",
    "\n",
    "for filename in os.listdir(dataset_folder):\n",
    "   \n",
    "    \n",
    "    if filename.endswith('.jpg') or filename.endswith('.JPEG'):\n",
    "        # Construct the full path to the image\n",
    "        image_path = os.path.join(dataset_folder, filename)\n",
    "\n",
    "        # Use PIL to open and preprocess the image\n",
    "        image = Image.open(image_path).convert(\"RGB\")\n",
    "        input_tensor = preprocess(image).unsqueeze(0)\n",
    "\n",
    "        # Step 6: Use the model to predict the label\n",
    "        with torch.no_grad():\n",
    "            output = model(input_tensor)\n",
    "            predicted_label = torch.argmax(output, 1).item()\n",
    "\n",
    "        # Step 7: Compare the predicted label with the ground truth label\n",
    "        true_label = ground_truth_labels[total_images]\n",
    "        if predicted_label == true_label:\n",
    "            num_correct_predictions += 1\n",
    "            # Step 8: If correctly predicted, copy the image to the output folder\n",
    "            shutil.copy(image_path, os.path.join(output_folder, filename))\n",
    "        total_images += 1\n",
    "        \n",
    "# Step 9: Calculate the accuracy of the model\n",
    "accuracy = num_correct_predictions / total_images\n",
    "print(f\"Accuracy: {accuracy * 100:.2f}%\")"
   ]
  },
  {
   "cell_type": "code",
   "execution_count": null,
   "id": "97760010",
   "metadata": {},
   "outputs": [],
   "source": []
  }
 ],
 "metadata": {
  "kernelspec": {
   "display_name": "Python 3 (ipykernel)",
   "language": "python",
   "name": "python3"
  },
  "language_info": {
   "codemirror_mode": {
    "name": "ipython",
    "version": 3
   },
   "file_extension": ".py",
   "mimetype": "text/x-python",
   "name": "python",
   "nbconvert_exporter": "python",
   "pygments_lexer": "ipython3",
   "version": "3.11.7"
  }
 },
 "nbformat": 4,
 "nbformat_minor": 5
}
